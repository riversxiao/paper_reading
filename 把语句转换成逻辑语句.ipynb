{
 "cells": [
  {
   "cell_type": "markdown",
   "metadata": {
    "collapsed": true
   },
   "source": [
    "## 把语句转换成逻辑语句"
   ]
  },
  {
   "cell_type": "markdown",
   "metadata": {},
   "source": [
    "this is a mimic project comes from peter norvig personal blog "
   ]
  },
  {
   "cell_type": "markdown",
   "metadata": {},
   "source": [
    "The original project was meant to translate english sentences into propositional logic statements. Follow his thoughts, I will translate chinese sentences into propositional logic statements"
   ]
  },
  {
   "cell_type": "markdown",
   "metadata": {},
   "source": [
    "在逻辑课上，老师通常会让我们把普通的句子改成逻辑语句，比如：\n",
    "\n",
    "- Sieglinde will survive, and either her son will gain the Ring and Wotan’s plan will be fulfilled or else Valhalla will be destroyed.\n",
    "\n",
    "- Sieglinde(人名） 能活下来， 同时，或者她的儿子会拿到戒指并且Wotan的计划会完成，或者Valhalla会被毁灭"
   ]
  },
  {
   "cell_type": "markdown",
   "metadata": {},
   "source": [
    "改成以下的逻辑语句"
   ]
  },
  {
   "cell_type": "markdown",
   "metadata": {},
   "source": [
    "$P ⋀ ((Q ⋀ R) ∨ S)$\n",
    "\n"
   ]
  },
  {
   "cell_type": "markdown",
   "metadata": {},
   "source": [
    "注解:"
   ]
  },
  {
   "cell_type": "markdown",
   "metadata": {},
   "source": [
    "P: Sieglinde(人名） 能活下来\n",
    "\n",
    "Q: Sieglinde(人名） 的儿子会拿到戒指\n",
    "\n",
    "R: Wotan的计划会完成\n",
    "\n",
    "S: Valhalla(人名）会被毁灭"
   ]
  },
  {
   "cell_type": "markdown",
   "metadata": {},
   "source": [
    "某些语句，理解它的逻辑关系却并不简单，下面这两句话语义比较含糊，容易造成混淆，要弄清它们的关系就必须对饮食习惯有所了解"
   ]
  },
  {
   "cell_type": "markdown",
   "metadata": {},
   "source": [
    "我会吃沙拉或者面包加黄油。 $P ∨ (Q ⋀ R)$\n",
    "\n",
    "我会吃沙拉或者喝汤和吃冰淇淋。$(P ∨ Q) ⋀ R$"
   ]
  },
  {
   "cell_type": "markdown",
   "metadata": {},
   "source": [
    "不过，对于大多数的的句子，转换的过程比较简单，不需要预先了解特定的知识。 Peter Norvig发展了一个程序转换这些句子。程序是建立在一系列这种形式的转换规则的基础上的：\n",
    "\n",
    "```\n",
    "Rule('{P} ⇒ {Q}', 'if {P} then {Q}', 'if {P}, {Q}')\n",
    "```\n"
   ]
  },
  {
   "cell_type": "markdown",
   "metadata": {},
   "source": [
    "逻辑转换的形式是 P => Q,只要我们看到一句话的形式是这样的\"如果 P 那么 Q\" 或者 \"如果P,Q\" , P和Q可以是任意语句的非空子集。 转换规则会不断的递归符合匹配的P和Q，转换规则是从上到下，从左到右，符合的第一个会被accept，所以请管理好你的rule。 "
   ]
  },
  {
   "cell_type": "markdown",
   "metadata": {},
   "source": [
    "首先，用方程定义一个规则"
   ]
  },
  {
   "cell_type": "code",
   "execution_count": 1,
   "metadata": {
    "collapsed": true
   },
   "outputs": [],
   "source": [
    "import re\n",
    "\n",
    "def Rule(output, *patterns):\n",
    "    #如果整个input符合任意一种模式，那么这个规则就会生成一个output\n",
    "    return (output, [name_group(pat) + '$' for pat in patterns])\n",
    "\n",
    "def name_group(pat):\n",
    "    #把'{Q}' 换成'(?P<Q>.+?)'\n",
    "    return re.sub('{(.)}',r'(?P<Q>.+?)',pat)\n",
    "\n",
    "def word(w):\n",
    "    return r'\\b' + w + r'\\b' #\n"
   ]
  },
  {
   "cell_type": "markdown",
   "metadata": {},
   "source": [
    "现在我们来写一下转换规则。 如果你发现已有的规则并不能很好的转换你的句子，那么你可以扩展一下规则去处理这些句子"
   ]
  },
  {
   "cell_type": "code",
   "execution_count": null,
   "metadata": {
    "collapsed": true
   },
   "outputs": [],
   "source": [
    "rules = [\n",
    "    Rule('{P} => {Q}',                '如果 {P} 那么 {Q}', '')\n",
    "]\n",
    "negations = [\n",
    "    (word(\"not\"), \"\"),\n",
    "    (word(\"cannot\"), \"can\"),\n",
    "    (word(\"can't\"), \"can\"),\n",
    "    (word(\"won't\"), \"will\"),\n",
    "    (word(\"ain't\"), \"is\"),\n",
    "    (\"n't\", \"\"), # matches as part of a word: didn't, couldn't, etc.\n",
    "    ]"
   ]
  }
 ],
 "metadata": {
  "kernelspec": {
   "display_name": "Python 2",
   "language": "python",
   "name": "python2"
  },
  "language_info": {
   "codemirror_mode": {
    "name": "ipython",
    "version": 2
   },
   "file_extension": ".py",
   "mimetype": "text/x-python",
   "name": "python",
   "nbconvert_exporter": "python",
   "pygments_lexer": "ipython2",
   "version": "2.7.13"
  }
 },
 "nbformat": 4,
 "nbformat_minor": 0
}
